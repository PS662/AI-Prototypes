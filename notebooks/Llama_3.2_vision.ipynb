{
 "cells": [
  {
   "cell_type": "code",
   "execution_count": 1,
   "id": "77fbd7b4-377b-4feb-b4fd-969e45b954fd",
   "metadata": {},
   "outputs": [],
   "source": [
    "#%pip install transformers accelerate datasets bitsandbytes pillow"
   ]
  },
  {
   "cell_type": "code",
   "execution_count": 11,
   "id": "916f65a3-7d54-467f-b50f-6dae85b07adb",
   "metadata": {},
   "outputs": [],
   "source": [
    "import os\n",
    "\n",
    "llama_models_path = os.getenv(\"LLAMA_MODELS_PATH\")\n",
    "if not llama_models_path:\n",
    "    raise ValueError(\"Where are the models?\")"
   ]
  },
  {
   "cell_type": "code",
   "execution_count": 12,
   "id": "1060f15b-1687-4e88-a7ef-9f3f6aa2c043",
   "metadata": {},
   "outputs": [],
   "source": [
    "import sys\n",
    "from PIL import Image as PIL_Image\n",
    "import torch\n",
    "from transformers import MllamaForConditionalGeneration, MllamaProcessor\n",
    "from accelerate import Accelerator\n",
    "   \n",
    "model_path = os.path.join(llama_models_path, \"Llama3.2-11B-Vision-Instruct\")\n",
    "\n",
    "accelerator = Accelerator()\n",
    "device = accelerator.device"
   ]
  },
  {
   "cell_type": "code",
   "execution_count": 13,
   "id": "2e6c6193-7c77-40e1-8120-beb8a1813e63",
   "metadata": {},
   "outputs": [
    {
     "ename": "OSError",
     "evalue": "Error no file named pytorch_model.bin, model.safetensors, tf_model.h5, model.ckpt.index or flax_model.msgpack found in directory /home/prateek/.llama/checkpoints/Llama3.2-11B-Vision-Instruct.",
     "output_type": "error",
     "traceback": [
      "\u001b[0;31m---------------------------------------------------------------------------\u001b[0m",
      "\u001b[0;31mOSError\u001b[0m                                   Traceback (most recent call last)",
      "Cell \u001b[0;32mIn[13], line 40\u001b[0m\n\u001b[1;32m     36\u001b[0m image_path \u001b[38;5;241m=\u001b[39m \u001b[38;5;124m\"\u001b[39m\u001b[38;5;124m/opt/Data/sample-images/car.bmp\u001b[39m\u001b[38;5;124m\"\u001b[39m\n\u001b[1;32m     38\u001b[0m image \u001b[38;5;241m=\u001b[39m process_image(image_path)\n\u001b[0;32m---> 40\u001b[0m model, processor \u001b[38;5;241m=\u001b[39m \u001b[43mload_model_and_processor\u001b[49m\u001b[43m(\u001b[49m\u001b[43mmodel_path\u001b[49m\u001b[43m)\u001b[49m\n\u001b[1;32m     42\u001b[0m prompt_text \u001b[38;5;241m=\u001b[39m \u001b[38;5;124m\"\u001b[39m\u001b[38;5;124mDescribe this image in detail.\u001b[39m\u001b[38;5;124m\"\u001b[39m\n\u001b[1;32m     44\u001b[0m generated_text \u001b[38;5;241m=\u001b[39m generate_text_from_image(model, processor, image, prompt_text, temperature\u001b[38;5;241m=\u001b[39m\u001b[38;5;241m0.7\u001b[39m, top_p\u001b[38;5;241m=\u001b[39m\u001b[38;5;241m0.9\u001b[39m)\n",
      "Cell \u001b[0;32mIn[13], line 5\u001b[0m, in \u001b[0;36mload_model_and_processor\u001b[0;34m(model_path)\u001b[0m\n\u001b[1;32m      1\u001b[0m \u001b[38;5;28;01mdef\u001b[39;00m \u001b[38;5;21mload_model_and_processor\u001b[39m(model_path: \u001b[38;5;28mstr\u001b[39m):\n\u001b[1;32m      2\u001b[0m \u001b[38;5;250m    \u001b[39m\u001b[38;5;124;03m\"\"\"\u001b[39;00m\n\u001b[1;32m      3\u001b[0m \u001b[38;5;124;03m    Load the model and processor based on the 11B Vision model.\u001b[39;00m\n\u001b[1;32m      4\u001b[0m \u001b[38;5;124;03m    \"\"\"\u001b[39;00m\n\u001b[0;32m----> 5\u001b[0m     model \u001b[38;5;241m=\u001b[39m \u001b[43mMllamaForConditionalGeneration\u001b[49m\u001b[38;5;241;43m.\u001b[39;49m\u001b[43mfrom_pretrained\u001b[49m\u001b[43m(\u001b[49m\u001b[43mmodel_path\u001b[49m\u001b[43m,\u001b[49m\u001b[43m \u001b[49m\u001b[43mtorch_dtype\u001b[49m\u001b[38;5;241;43m=\u001b[39;49m\u001b[43mtorch\u001b[49m\u001b[38;5;241;43m.\u001b[39;49m\u001b[43mbfloat16\u001b[49m\u001b[43m,\u001b[49m\u001b[43m \u001b[49m\u001b[43muse_safetensors\u001b[49m\u001b[38;5;241;43m=\u001b[39;49m\u001b[38;5;28;43;01mFalse\u001b[39;49;00m\u001b[43m,\u001b[49m\u001b[43m \u001b[49m\u001b[43mdevice_map\u001b[49m\u001b[38;5;241;43m=\u001b[39;49m\u001b[38;5;124;43m\"\u001b[39;49m\u001b[38;5;124;43mauto\u001b[39;49m\u001b[38;5;124;43m\"\u001b[39;49m\u001b[43m,\u001b[49m\n\u001b[1;32m      6\u001b[0m \u001b[43m                                                              \u001b[49m\u001b[43mlocal_files_only\u001b[49m\u001b[38;5;241;43m=\u001b[39;49m\u001b[38;5;28;43;01mTrue\u001b[39;49;00m\u001b[43m)\u001b[49m\n\u001b[1;32m      7\u001b[0m     processor \u001b[38;5;241m=\u001b[39m MllamaProcessor\u001b[38;5;241m.\u001b[39mfrom_pretrained(model_path, use_safetensors\u001b[38;5;241m=\u001b[39m\u001b[38;5;28;01mFalse\u001b[39;00m,     local_files_only\u001b[38;5;241m=\u001b[39m\u001b[38;5;28;01mTrue\u001b[39;00m)\n\u001b[1;32m      9\u001b[0m     model, processor \u001b[38;5;241m=\u001b[39m accelerator\u001b[38;5;241m.\u001b[39mprepare(model, processor)\n",
      "File \u001b[0;32m~/.virtualenvs/llama-notebook/lib/python3.10/site-packages/transformers/modeling_utils.py:3558\u001b[0m, in \u001b[0;36mPreTrainedModel.from_pretrained\u001b[0;34m(cls, pretrained_model_name_or_path, config, cache_dir, ignore_mismatched_sizes, force_download, local_files_only, token, revision, use_safetensors, *model_args, **kwargs)\u001b[0m\n\u001b[1;32m   3553\u001b[0m         \u001b[38;5;28;01mraise\u001b[39;00m \u001b[38;5;167;01mEnvironmentError\u001b[39;00m(\n\u001b[1;32m   3554\u001b[0m             \u001b[38;5;124mf\u001b[39m\u001b[38;5;124m\"\u001b[39m\u001b[38;5;124mError no file named \u001b[39m\u001b[38;5;132;01m{\u001b[39;00m_add_variant(SAFE_WEIGHTS_NAME,\u001b[38;5;250m \u001b[39mvariant)\u001b[38;5;132;01m}\u001b[39;00m\u001b[38;5;124m found in directory\u001b[39m\u001b[38;5;124m\"\u001b[39m\n\u001b[1;32m   3555\u001b[0m             \u001b[38;5;124mf\u001b[39m\u001b[38;5;124m\"\u001b[39m\u001b[38;5;124m \u001b[39m\u001b[38;5;132;01m{\u001b[39;00mpretrained_model_name_or_path\u001b[38;5;132;01m}\u001b[39;00m\u001b[38;5;124m.\u001b[39m\u001b[38;5;124m\"\u001b[39m\n\u001b[1;32m   3556\u001b[0m         )\n\u001b[1;32m   3557\u001b[0m     \u001b[38;5;28;01melse\u001b[39;00m:\n\u001b[0;32m-> 3558\u001b[0m         \u001b[38;5;28;01mraise\u001b[39;00m \u001b[38;5;167;01mEnvironmentError\u001b[39;00m(\n\u001b[1;32m   3559\u001b[0m             \u001b[38;5;124mf\u001b[39m\u001b[38;5;124m\"\u001b[39m\u001b[38;5;124mError no file named \u001b[39m\u001b[38;5;132;01m{\u001b[39;00m_add_variant(WEIGHTS_NAME,\u001b[38;5;250m \u001b[39mvariant)\u001b[38;5;132;01m}\u001b[39;00m\u001b[38;5;124m, \u001b[39m\u001b[38;5;132;01m{\u001b[39;00m_add_variant(SAFE_WEIGHTS_NAME,\u001b[38;5;250m \u001b[39mvariant)\u001b[38;5;132;01m}\u001b[39;00m\u001b[38;5;124m,\u001b[39m\u001b[38;5;124m\"\u001b[39m\n\u001b[1;32m   3560\u001b[0m             \u001b[38;5;124mf\u001b[39m\u001b[38;5;124m\"\u001b[39m\u001b[38;5;124m \u001b[39m\u001b[38;5;132;01m{\u001b[39;00mTF2_WEIGHTS_NAME\u001b[38;5;132;01m}\u001b[39;00m\u001b[38;5;124m, \u001b[39m\u001b[38;5;132;01m{\u001b[39;00mTF_WEIGHTS_NAME\u001b[38;5;250m \u001b[39m\u001b[38;5;241m+\u001b[39m\u001b[38;5;250m \u001b[39m\u001b[38;5;124m'\u001b[39m\u001b[38;5;124m.index\u001b[39m\u001b[38;5;124m'\u001b[39m\u001b[38;5;132;01m}\u001b[39;00m\u001b[38;5;124m or \u001b[39m\u001b[38;5;132;01m{\u001b[39;00mFLAX_WEIGHTS_NAME\u001b[38;5;132;01m}\u001b[39;00m\u001b[38;5;124m found in directory\u001b[39m\u001b[38;5;124m\"\u001b[39m\n\u001b[1;32m   3561\u001b[0m             \u001b[38;5;124mf\u001b[39m\u001b[38;5;124m\"\u001b[39m\u001b[38;5;124m \u001b[39m\u001b[38;5;132;01m{\u001b[39;00mpretrained_model_name_or_path\u001b[38;5;132;01m}\u001b[39;00m\u001b[38;5;124m.\u001b[39m\u001b[38;5;124m\"\u001b[39m\n\u001b[1;32m   3562\u001b[0m         )\n\u001b[1;32m   3563\u001b[0m \u001b[38;5;28;01melif\u001b[39;00m os\u001b[38;5;241m.\u001b[39mpath\u001b[38;5;241m.\u001b[39misfile(os\u001b[38;5;241m.\u001b[39mpath\u001b[38;5;241m.\u001b[39mjoin(subfolder, pretrained_model_name_or_path)):\n\u001b[1;32m   3564\u001b[0m     archive_file \u001b[38;5;241m=\u001b[39m pretrained_model_name_or_path\n",
      "\u001b[0;31mOSError\u001b[0m: Error no file named pytorch_model.bin, model.safetensors, tf_model.h5, model.ckpt.index or flax_model.msgpack found in directory /home/prateek/.llama/checkpoints/Llama3.2-11B-Vision-Instruct."
     ]
    }
   ],
   "source": [
    "def load_model_and_processor(model_path: str):\n",
    "    \"\"\"\n",
    "    Load the model and processor based on the 11B Vision model.\n",
    "    \"\"\"\n",
    "    model = MllamaForConditionalGeneration.from_pretrained(model_path, torch_dtype=torch.bfloat16, use_safetensors=False, device_map=\"auto\",\n",
    "                                                              local_files_only=True)\n",
    "    processor = MllamaProcessor.from_pretrained(model_path, use_safetensors=False,     local_files_only=True)\n",
    "\n",
    "    model, processor = accelerator.prepare(model, processor)\n",
    "    return model, processor\n",
    "\n",
    "\n",
    "def process_image(image_path: str) -> PIL_Image.Image:\n",
    "    \"\"\"\n",
    "    Open and convert an image from the specified path.\n",
    "    \"\"\"\n",
    "    if not os.path.exists(image_path):\n",
    "        print(f\"The image file '{image_path}' does not exist.\")\n",
    "        sys.exit(1)\n",
    "    with open(image_path, \"rb\") as f:\n",
    "        return PIL_Image.open(f).convert(\"RGB\")\n",
    "\n",
    "\n",
    "def generate_text_from_image(model, processor, image, prompt_text: str, temperature: float, top_p: float):\n",
    "    \"\"\"\n",
    "    Generate text from an image using the model and processor.\n",
    "    \"\"\"\n",
    "    conversation = [\n",
    "        {\"role\": \"user\", \"content\": [{\"type\": \"image\"}, {\"type\": \"text\", \"text\": prompt_text}]}\n",
    "    ]\n",
    "    prompt = processor.apply_chat_template(conversation, add_generation_prompt=True, tokenize=False)\n",
    "    inputs = processor(image, prompt, return_tensors=\"pt\").to(device)\n",
    "    output = model.generate(**inputs, temperature=temperature, top_p=top_p, max_new_tokens=512)\n",
    "    return processor.decode(output[0])[len(prompt):]\n",
    "\n",
    "image_path = \"/opt/Data/sample-images/car.bmp\"\n",
    "\n",
    "image = process_image(image_path)\n",
    "\n",
    "model, processor = load_model_and_processor(model_path)\n",
    "\n",
    "prompt_text = \"Describe this image in detail.\"\n",
    "\n",
    "generated_text = generate_text_from_image(model, processor, image, prompt_text, temperature=0.7, top_p=0.9)\n",
    "\n",
    "print(\"Generated Description:\", generated_text)"
   ]
  },
  {
   "cell_type": "code",
   "execution_count": null,
   "id": "4cd992d3-c79a-4507-bbdb-3534a4c6775d",
   "metadata": {},
   "outputs": [],
   "source": []
  },
  {
   "cell_type": "code",
   "execution_count": 10,
   "id": "4712cee7-c50e-4900-8841-13af46727496",
   "metadata": {},
   "outputs": [
    {
     "name": "stdout",
     "output_type": "stream",
     "text": [
      "ls: cannot access '/home/prateek/.llama/checkpoints/Llama-3.2-11B-Vision-Instruct': No such file or directory\n"
     ]
    }
   ],
   "source": [
    "ls /home/prateek/.llama/checkpoints/Llama-3.2-11B-Vision-Instruct"
   ]
  },
  {
   "cell_type": "code",
   "execution_count": 9,
   "id": "5cba02b1-4cb3-4ae1-aa1c-cf4d37b7f16b",
   "metadata": {},
   "outputs": [
    {
     "name": "stdout",
     "output_type": "stream",
     "text": [
      "checklist.chk  consolidated.00.pth  params.json  tokenizer.model\n"
     ]
    }
   ],
   "source": [
    "ls /home/prateek/.llama/checkpoints/Llama3.2-11B-Vision-Instruct"
   ]
  },
  {
   "cell_type": "code",
   "execution_count": null,
   "id": "60613a4d-8056-48c4-8383-6d71a40fd452",
   "metadata": {},
   "outputs": [],
   "source": []
  }
 ],
 "metadata": {
  "kernelspec": {
   "display_name": "Python 3 (ipykernel)",
   "language": "python",
   "name": "python3"
  },
  "language_info": {
   "codemirror_mode": {
    "name": "ipython",
    "version": 3
   },
   "file_extension": ".py",
   "mimetype": "text/x-python",
   "name": "python",
   "nbconvert_exporter": "python",
   "pygments_lexer": "ipython3",
   "version": "3.10.12"
  }
 },
 "nbformat": 4,
 "nbformat_minor": 5
}
